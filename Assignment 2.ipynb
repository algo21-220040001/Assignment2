{
 "cells": [
  {
   "cell_type": "code",
   "execution_count": 1,
   "metadata": {
    "collapsed": true
   },
   "outputs": [],
   "source": [
    "import pandas as pd\n",
    "import numpy as np\n",
    "import pickle\n",
    "from tqdm import tqdm_notebook\n",
    "\n",
    "from typing import List\n",
    "import collections\n",
    "\n"
   ]
  },
  {
   "cell_type": "code",
   "execution_count": 2,
   "outputs": [],
   "source": [
    "def industry_DF_to_01(DF, pos=-6):\n",
    "    DF = pd.get_dummies(DF)\n",
    "    DF.columns = list(map(lambda x:x[pos:],DF.columns))\n",
    "    return DF"
   ],
   "metadata": {
    "collapsed": false,
    "pycharm": {
     "name": "#%%\n"
    }
   }
  },
  {
   "cell_type": "code",
   "execution_count": 3,
   "outputs": [],
   "source": [
    "with open('other_data_0415.pkl', 'rb') as f:\n",
    "    other_data = pickle.load(f)"
   ],
   "metadata": {
    "collapsed": false,
    "pycharm": {
     "name": "#%%\n"
    }
   }
  },
  {
   "cell_type": "code",
   "execution_count": 4,
   "outputs": [],
   "source": [
    "# 接受ind_limit作为ind_ceil 当作等权分配的放松比率\n",
    "def ind_res4(d1: str, df_temp: pd.core.frame.DataFrame, pool_N: set, retain: float, hold_num: int,\n",
    "             ind_ceil: np.float64, ind_sig: str, func_pos: int, max_res_retain: float,\n",
    "             ind_limit_days_dict: dict) -> None:\n",
    "    if ind_limit_days_dict is None:\n",
    "        ind_limit_days_dict = {}\n",
    "        for ind in set(other_data[d1][ind_sig]):\n",
    "            ind_limit_days_dict[ind] = {}\n",
    "            ind_limit_days_dict[ind][d1] = 1\n",
    "\n",
    "    df_temp_ind = []\n",
    "    # 合并行业数据\n",
    "    df_temp_ind = pd.merge(df_temp, industry_DF_to_01(other_data[d1][ind_sig], pos=func_pos),\n",
    "                           how='left', left_index=True, right_index=True)\n",
    "\n",
    "    # 行业限额字典\n",
    "    zz500_dic = collections.Counter(other_data[d1].loc[other_data[d1]['index_pool'] == 500, :]['industry'])\n",
    "    for key, val in zz500_dic.items():\n",
    "        zz500_dic[key] /= 500\n",
    "\n",
    "    # ptr2_N = [1 for i in range(N)]\n",
    "    while True:  # 行业约束检测\n",
    "        # 找出持仓内股票的行业\n",
    "        ind_df_N = industry_DF_to_01(other_data[d1].loc[list(pool_N), [ind_sig]], pos=func_pos)\n",
    "\n",
    "        # 按列求和 并计算是否超额\n",
    "        ind_df_N.loc[\"列总和\", :] = ind_df_N.apply(lambda x: x.sum(), axis=0)\n",
    "        ind_df_N.loc[\"当前超额值\", :] = ind_df_N.apply(\n",
    "            lambda x: x[\"列总和\"] - np.ceil(zz500_dic[x.name] * hold_num * (1 + ind_ceil)), axis=0)\n",
    "\n",
    "        # 构建一个限额字典 key:行业 value: 剩余可配置券个数\n",
    "        del_dic = {}\n",
    "        for ind in ind_df_N.columns:\n",
    "            del_dic[ind] = ind_df_N[ind][-1]\n",
    "            if ind_limit_days_dict[ind][d1] != 1:\n",
    "                del_dic[ind] = 0\n",
    "\n",
    "        for ind in set(other_data[d1][ind_sig]) ^ (set(ind_df_N.columns)):\n",
    "            del_dic[ind] = - np.ceil(zz500_dic[ind] * hold_num * (1 + ind_ceil))\n",
    "            if ind_limit_days_dict[ind][d1] != 1:\n",
    "                del_dic[ind] = 0\n",
    "        del_list_N = del_dic\n",
    "        # print(del_list_N[0])\n",
    "        # print(df_temp_ind[0].head())\n",
    "\n",
    "        dict_warning = {}\n",
    "        for ind in set(other_data[d1][ind_sig]):\n",
    "            dict_warning[ind] = False\n",
    "\n",
    "        sig = True  # 是否满足约束的判断\n",
    "\n",
    "        if not all(val <= 0 for val in set(del_list_N.values())):\n",
    "            sig = False\n",
    "        # print(len(pool_N[0]))\n",
    "        if sig:\n",
    "            return del_list_N, pool_N\n",
    "\n",
    "        for ind in del_list_N.keys():\n",
    "            while del_list_N[ind] > 0:\n",
    "\n",
    "                ptr1 = df_temp.shape[0] - 1  # 贪心 每次都从因子值相对最小的开始搜索能够剔除的个券\n",
    "                ptr2_N = 1\n",
    "                while (df_temp_ind.loc[df_temp_ind.index[-ptr1], ind] != 1) or \\\n",
    "                        (df_temp_ind.index[-ptr1] not in pool_N):\n",
    "                    # df_temp_ind[i].index[-ptr1] in pool_N_temp2[i]\n",
    "                    if ptr1 < 0:\n",
    "                        dict_warning[ind] = True\n",
    "                        # print('*****行业调整失败，仓内行业暴露过大',d1,ind)\n",
    "                        # print('行业：',ind,sw_l1_ind_name[ind],\n",
    "                        # '超额,配额：', del_list_N[0][ind],np.ceil(zz500_dic[ind]*hold_num*(1+ind_ceil)))\n",
    "                        break\n",
    "                    ptr1 -= 1\n",
    "\n",
    "                if dict_warning[ind]: break\n",
    "\n",
    "                while del_list_N.get(other_data[d1].loc[df_temp_ind.index[-ptr2_N], ind_sig], -1) >= 0 or \\\n",
    "                        df_temp_ind.index[-ptr2_N] in pool_N:\n",
    "                    if ptr2_N >= min(df_temp_ind.shape[0] - 1, hold_num * (1 + retain) * max_res_retain):  ### 仅在模糊区间里调整\n",
    "                        dict_warning[ind] = True\n",
    "                        # print('*****行业调整失败，指针超过模糊区间',d1,ind)\n",
    "                        # print('行业：',ind,sw_l1_ind_name[ind],\n",
    "                        # '超额,配额：', del_list_N[0][ind],np.ceil(zz500_dic[ind]*hold_num*(1+ind_ceil)))\n",
    "                        break\n",
    "                    ptr2_N += 1  # ptr2指向一个能够被加入pool中的券 其中动态调整限额字典 只需要一次遍历调整\n",
    "\n",
    "                if dict_warning[ind]: break\n",
    "\n",
    "                # 增删个券 调整限额字典\n",
    "                pool_N.remove(df_temp_ind.index[-ptr1])\n",
    "                del_list_N[ind] -= 1\n",
    "                pool_N.add(df_temp_ind.index[-ptr2_N])\n",
    "                del_list_N[other_data[d1].loc[df_temp_ind.index[-ptr2_N], ind_sig]] += 1\n",
    "\n",
    "        if sum(dict_warning.values()) > 0:\n",
    "            # break\n",
    "            return del_list_N, pool_N\n",
    "\n",
    "    return del_list_N, pool_N"
   ],
   "metadata": {
    "collapsed": false,
    "pycharm": {
     "name": "#%%\n"
    }
   }
  },
  {
   "cell_type": "code",
   "execution_count": 5,
   "outputs": [],
   "source": [
    "with open('stock_score.pkl', 'rb') as fff:\n",
    "    df_y = pickle.load(fff)"
   ],
   "metadata": {
    "collapsed": false,
    "pycharm": {
     "name": "#%%\n"
    }
   }
  },
  {
   "cell_type": "code",
   "execution_count": 6,
   "outputs": [],
   "source": [
    "pool = set(df_y[0].iloc[:, -1].sort_values(ascending=False)[:200].index)\n",
    "\n",
    "result = ind_res4(\"2021-04-15\", df_y[0].iloc[:, -1], pool, 0.5, 200, ind_ceil=0.2,\n",
    "         ind_sig='industry', func_pos=-6, max_res_retain=2, ind_limit_days_dict=None)\n",
    "\n"
   ],
   "metadata": {
    "collapsed": false,
    "pycharm": {
     "name": "#%%\n"
    }
   }
  },
  {
   "cell_type": "code",
   "execution_count": 8,
   "outputs": [
    {
     "data": {
      "text/plain": "{'801010': 0.0,\n '801020': 0.0,\n '801030': 0.0,\n '801040': -6.0,\n '801050': 0.0,\n '801080': 0.0,\n '801110': 0.0,\n '801120': 0.0,\n '801130': 0.0,\n '801140': 0.0,\n '801150': 0.0,\n '801160': -1.0,\n '801170': -8.0,\n '801180': -11.0,\n '801200': -1.0,\n '801210': 0.0,\n '801230': -1.0,\n '801710': -2.0,\n '801720': 0.0,\n '801730': 0.0,\n '801740': -6.0,\n '801750': 0.0,\n '801760': 0.0,\n '801770': -4.0,\n '801780': -3.0,\n '801880': 0.0,\n '801890': 0.0,\n '801790': -10.0}"
     },
     "execution_count": 8,
     "metadata": {},
     "output_type": "execute_result"
    }
   ],
   "source": [
    "result[0]\n"
   ],
   "metadata": {
    "collapsed": false,
    "pycharm": {
     "name": "#%%\n"
    }
   }
  },
  {
   "cell_type": "code",
   "execution_count": 9,
   "outputs": [
    {
     "data": {
      "text/plain": "{'000069.XSHE',\n '000501.XSHE',\n '000623.XSHE',\n '000655.XSHE',\n '000657.XSHE',\n '000722.XSHE',\n '000829.XSHE',\n '000875.XSHE',\n '000906.XSHE',\n '000930.XSHE',\n '000966.XSHE',\n '000989.XSHE',\n '002177.XSHE',\n '002179.XSHE',\n '002234.XSHE',\n '002292.XSHE',\n '002327.XSHE',\n '002466.XSHE',\n '002493.XSHE',\n '002607.XSHE',\n '002614.XSHE',\n '002648.XSHE',\n '002714.XSHE',\n '002746.XSHE',\n '002791.XSHE',\n '002891.XSHE',\n '002967.XSHE',\n '300015.XSHE',\n '300041.XSHE',\n '300143.XSHE',\n '300224.XSHE',\n '300229.XSHE',\n '300314.XSHE',\n '300381.XSHE',\n '300395.XSHE',\n '300475.XSHE',\n '300582.XSHE',\n '300627.XSHE',\n '300632.XSHE',\n '300677.XSHE',\n '300687.XSHE',\n '300715.XSHE',\n '300726.XSHE',\n '300740.XSHE',\n '300770.XSHE',\n '300771.XSHE',\n '300806.XSHE',\n '600031.XSHG',\n '600039.XSHG',\n '600071.XSHG',\n '600079.XSHG',\n '600088.XSHG',\n '600136.XSHG',\n '600171.XSHG',\n '600172.XSHG',\n '600197.XSHG',\n '600218.XSHG',\n '600276.XSHG',\n '600284.XSHG',\n '600292.XSHG',\n '600295.XSHG',\n '600315.XSHG',\n '600346.XSHG',\n '600363.XSHG',\n '600373.XSHG',\n '600395.XSHG',\n '600406.XSHG',\n '600409.XSHG',\n '600456.XSHG',\n '600486.XSHG',\n '600502.XSHG',\n '600552.XSHG',\n '600597.XSHG',\n '600612.XSHG',\n '600690.XSHG',\n '600699.XSHG',\n '600707.XSHG',\n '600710.XSHG',\n '600779.XSHG',\n '600782.XSHG',\n '600803.XSHG',\n '600810.XSHG',\n '600873.XSHG',\n '600882.XSHG',\n '600979.XSHG',\n '600985.XSHG',\n '600986.XSHG',\n '600988.XSHG',\n '601012.XSHG',\n '601019.XSHG',\n '601028.XSHG',\n '601139.XSHG',\n '601231.XSHG',\n '601233.XSHG',\n '601311.XSHG',\n '601689.XSHG',\n '601808.XSHG',\n '601827.XSHG',\n '601898.XSHG',\n '601939.XSHG',\n '601998.XSHG',\n '603027.XSHG',\n '603076.XSHG',\n '603098.XSHG',\n '603113.XSHG',\n '603129.XSHG',\n '603160.XSHG',\n '603185.XSHG',\n '603198.XSHG',\n '603208.XSHG',\n '603225.XSHG',\n '603277.XSHG',\n '603306.XSHG',\n '603326.XSHG',\n '603348.XSHG',\n '603355.XSHG',\n '603358.XSHG',\n '603377.XSHG',\n '603386.XSHG',\n '603456.XSHG',\n '603486.XSHG',\n '603517.XSHG',\n '603567.XSHG',\n '603588.XSHG',\n '603669.XSHG',\n '603688.XSHG',\n '603737.XSHG',\n '603738.XSHG',\n '603755.XSHG',\n '603766.XSHG',\n '603797.XSHG',\n '603803.XSHG',\n '603806.XSHG',\n '603817.XSHG',\n '603818.XSHG',\n '603819.XSHG',\n '603825.XSHG',\n '603856.XSHG',\n '603859.XSHG',\n '603861.XSHG',\n '603866.XSHG',\n '603871.XSHG',\n '603876.XSHG',\n '603878.XSHG',\n '603885.XSHG',\n '603888.XSHG',\n '603889.XSHG',\n '603896.XSHG',\n '603897.XSHG',\n '603898.XSHG',\n '603900.XSHG',\n '603901.XSHG',\n '603918.XSHG',\n '603927.XSHG',\n '603937.XSHG',\n '603939.XSHG',\n '603959.XSHG',\n '603967.XSHG',\n '603969.XSHG',\n '603970.XSHG',\n '603976.XSHG',\n '603977.XSHG',\n '603978.XSHG',\n '603980.XSHG',\n '603983.XSHG',\n '603987.XSHG',\n '603988.XSHG',\n '603989.XSHG',\n '603990.XSHG',\n '603991.XSHG',\n '603993.XSHG',\n '603995.XSHG',\n '603998.XSHG',\n '603999.XSHG',\n '605108.XSHG',\n '605166.XSHG',\n '605168.XSHG',\n '605188.XSHG',\n '605199.XSHG',\n '605222.XSHG',\n '605288.XSHG',\n '688002.XSHG',\n '688005.XSHG',\n '688008.XSHG',\n '688011.XSHG',\n '688020.XSHG',\n '688029.XSHG',\n '688030.XSHG',\n '688066.XSHG',\n '688068.XSHG',\n '688088.XSHG',\n '688108.XSHG',\n '688116.XSHG',\n '688122.XSHG',\n '688139.XSHG',\n '688168.XSHG',\n '688321.XSHG',\n '688366.XSHG',\n '688369.XSHG',\n '688388.XSHG'}"
     },
     "execution_count": 9,
     "metadata": {},
     "output_type": "execute_result"
    }
   ],
   "source": [
    "result[1]"
   ],
   "metadata": {
    "collapsed": false,
    "pycharm": {
     "name": "#%%\n"
    }
   }
  },
  {
   "cell_type": "code",
   "execution_count": 3,
   "outputs": [],
   "source": [
    "\n",
    "\n"
   ],
   "metadata": {
    "collapsed": false,
    "pycharm": {
     "name": "#%%\n"
    }
   }
  },
  {
   "cell_type": "code",
   "execution_count": null,
   "outputs": [],
   "source": [],
   "metadata": {
    "collapsed": false,
    "pycharm": {
     "name": "#%%\n"
    }
   }
  }
 ],
 "metadata": {
  "kernelspec": {
   "name": "alpha",
   "language": "python",
   "display_name": "Pytho"
  },
  "language_info": {
   "codemirror_mode": {
    "name": "ipython",
    "version": 2
   },
   "file_extension": ".py",
   "mimetype": "text/x-python",
   "name": "python",
   "nbconvert_exporter": "python",
   "pygments_lexer": "ipython2",
   "version": "2.7.6"
  }
 },
 "nbformat": 4,
 "nbformat_minor": 0
}